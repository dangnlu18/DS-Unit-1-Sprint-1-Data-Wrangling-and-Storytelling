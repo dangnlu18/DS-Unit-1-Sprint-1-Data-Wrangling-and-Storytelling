{
  "nbformat": 4,
  "nbformat_minor": 0,
  "metadata": {
    "colab": {
      "name": "LS_DS_113_Join_and_Reshape_Data_Assignment.ipynb",
      "provenance": [],
      "collapsed_sections": [],
      "toc_visible": true,
      "machine_shape": "hm"
    },
    "kernelspec": {
      "display_name": "Python 3",
      "language": "python",
      "name": "python3"
    }
  },
  "cells": [
    {
      "cell_type": "markdown",
      "metadata": {
        "id": "pmU5YUal1eTZ"
      },
      "source": [
        "_Lambda School Data Science_\n",
        "\n",
        "# Join and Reshape datasets\n",
        "\n",
        "Objectives\n",
        "- concatenate data with pandas\n",
        "- merge data with pandas\n",
        "-  understand tidy data formatting\n",
        "-  melt and pivot data with pandas\n",
        "\n",
        "Links\n",
        "- [Pandas Cheat Sheet](https://github.com/pandas-dev/pandas/blob/master/doc/cheatsheet/Pandas_Cheat_Sheet.pdf)\n",
        "- [Tidy Data](https://en.wikipedia.org/wiki/Tidy_data)\n",
        "  - Combine Data Sets: Standard Joins\n",
        "  - Tidy Data\n",
        "  - Reshaping Data\n",
        "- Python Data Science Handbook\n",
        "  - [Chapter 3.6](https://jakevdp.github.io/PythonDataScienceHandbook/03.06-concat-and-append.html), Combining Datasets: Concat and Append\n",
        "  - [Chapter 3.7](https://jakevdp.github.io/PythonDataScienceHandbook/03.07-merge-and-join.html), Combining Datasets: Merge and Join\n",
        "  - [Chapter 3.8](https://jakevdp.github.io/PythonDataScienceHandbook/03.08-aggregation-and-grouping.html), Aggregation and Grouping\n",
        "  - [Chapter 3.9](https://jakevdp.github.io/PythonDataScienceHandbook/03.09-pivot-tables.html), Pivot Tables\n",
        "  \n",
        "Reference\n",
        "- Pandas Documentation: [Reshaping and Pivot Tables](https://pandas.pydata.org/pandas-docs/stable/reshaping.html)\n",
        "- Modern Pandas, Part 5: [Tidy Data](https://tomaugspurger.github.io/modern-5-tidy.html)"
      ]
    },
    {
      "cell_type": "markdown",
      "metadata": {
        "id": "1rFCdBYk2tkc"
      },
      "source": [
        "#Use the following Instacart data to answer the assignment questions."
      ]
    },
    {
      "cell_type": "code",
      "metadata": {
        "id": "4E3wKrdTChuC",
        "outputId": "b892382d-1392-40f7-f38d-df613a241b12",
        "colab": {
          "base_uri": "https://localhost:8080/"
        }
      },
      "source": [
        "#!wget https://s3.amazonaws.com/instacart-datasets/instacart_online_grocery_shopping_2017_05_01.tar.gz \n",
        "\n",
        "# Make sure we're in the top-level /content directory\n",
        "#\n",
        "# See below for notes on the cd command and why it's %cd instead of !cd\n",
        "%cd /content\n",
        "\n",
        "# Remove everything in the current working directory\n",
        "#\n",
        "# rm is the remove command\n",
        "# -rf specifies the \"recursive\" and \"force\" options to remove all files in \n",
        "# subdirectories without prompting\n",
        "#\n",
        "# THIS IS A POWERFUL COMMAND!\n",
        "#\n",
        "# In this particular case, removing all of the files makes things easier if you\n",
        "# need to re-run these examples by allowing you start with a clean directory\n",
        "# every time.\n",
        "!rm -rf *\n",
        "\n",
        "# wget retrieves files from a remote location\n",
        "!wget https://www.dropbox.com/s/pofcl26lvoj6073/instacart-market-basket-analysis.zip"
      ],
      "execution_count": 16,
      "outputs": [
        {
          "output_type": "stream",
          "text": [
            "/content\n",
            "--2021-01-01 09:37:40--  https://www.dropbox.com/s/pofcl26lvoj6073/instacart-market-basket-analysis.zip\n",
            "Resolving www.dropbox.com (www.dropbox.com)... 162.125.82.18, 2620:100:6032:18::a27d:5212\n",
            "Connecting to www.dropbox.com (www.dropbox.com)|162.125.82.18|:443... connected.\n",
            "HTTP request sent, awaiting response... 301 Moved Permanently\n",
            "Location: /s/raw/pofcl26lvoj6073/instacart-market-basket-analysis.zip [following]\n",
            "--2021-01-01 09:37:40--  https://www.dropbox.com/s/raw/pofcl26lvoj6073/instacart-market-basket-analysis.zip\n",
            "Reusing existing connection to www.dropbox.com:443.\n",
            "HTTP request sent, awaiting response... 302 Found\n",
            "Location: https://uc75ce219201237d578e03ef9a78.dl.dropboxusercontent.com/cd/0/inline/BGIHVYJ9ut7B9eUcLAGwJJKX5bDv5XdPwjH7CTdFlT4ozC7_3VTaTAHQYQN1vyW-WplfgS1E31WMVTWxku-gnPYUO1KCQ7tn3yeSnn0tr39wtcyNTt5RL9wAnueYuZabYqI/file# [following]\n",
            "--2021-01-01 09:37:41--  https://uc75ce219201237d578e03ef9a78.dl.dropboxusercontent.com/cd/0/inline/BGIHVYJ9ut7B9eUcLAGwJJKX5bDv5XdPwjH7CTdFlT4ozC7_3VTaTAHQYQN1vyW-WplfgS1E31WMVTWxku-gnPYUO1KCQ7tn3yeSnn0tr39wtcyNTt5RL9wAnueYuZabYqI/file\n",
            "Resolving uc75ce219201237d578e03ef9a78.dl.dropboxusercontent.com (uc75ce219201237d578e03ef9a78.dl.dropboxusercontent.com)... 162.125.82.15, 2620:100:6032:15::a27d:520f\n",
            "Connecting to uc75ce219201237d578e03ef9a78.dl.dropboxusercontent.com (uc75ce219201237d578e03ef9a78.dl.dropboxusercontent.com)|162.125.82.15|:443... connected.\n",
            "HTTP request sent, awaiting response... 302 Found\n",
            "Location: /cd/0/inline2/BGJiZZ_linAl_hpMug76cQLjpb9Z2ZCzh4bCCenmrpKVuRCQkFqyQULu_2n_Gv404JqvdQiXjdOFQ9OrhIJaq3Ytcbt9vb8yKf1ILclj7hwZXohOk82tK9DeK1mPN2EI_3bZ2i1rexrlz3vf87XnkR47IO7rh6yO8I8_8MnK8vWx_buWoiQUP-dE0L_KQPWXcOq0jFqrAxaCE207i_1VEww9J-p7RblJf0Df11bo1Tq73eRcKwjTBKDybPw7ly8FpkKCh5Y51j5KRwLM1l1hM2qKsSFrhvSvAlXJau6QETj-S4XQ5sOhE5JqBZkSUmbHDqTJqcKE_hMKCwklkTpV4U0IoFFypfeP3eCy9BKrXYASuQ/file [following]\n",
            "--2021-01-01 09:37:41--  https://uc75ce219201237d578e03ef9a78.dl.dropboxusercontent.com/cd/0/inline2/BGJiZZ_linAl_hpMug76cQLjpb9Z2ZCzh4bCCenmrpKVuRCQkFqyQULu_2n_Gv404JqvdQiXjdOFQ9OrhIJaq3Ytcbt9vb8yKf1ILclj7hwZXohOk82tK9DeK1mPN2EI_3bZ2i1rexrlz3vf87XnkR47IO7rh6yO8I8_8MnK8vWx_buWoiQUP-dE0L_KQPWXcOq0jFqrAxaCE207i_1VEww9J-p7RblJf0Df11bo1Tq73eRcKwjTBKDybPw7ly8FpkKCh5Y51j5KRwLM1l1hM2qKsSFrhvSvAlXJau6QETj-S4XQ5sOhE5JqBZkSUmbHDqTJqcKE_hMKCwklkTpV4U0IoFFypfeP3eCy9BKrXYASuQ/file\n",
            "Reusing existing connection to uc75ce219201237d578e03ef9a78.dl.dropboxusercontent.com:443.\n",
            "HTTP request sent, awaiting response... 200 OK\n",
            "Length: 205616541 (196M) [application/zip]\n",
            "Saving to: ‘instacart-market-basket-analysis.zip’\n",
            "\n",
            "instacart-market-ba 100%[===================>] 196.09M  17.7MB/s    in 13s     \n",
            "\n",
            "2021-01-01 09:37:55 (15.0 MB/s) - ‘instacart-market-basket-analysis.zip’ saved [205616541/205616541]\n",
            "\n"
          ],
          "name": "stdout"
        }
      ]
    },
    {
      "cell_type": "code",
      "metadata": {
        "id": "dkxqMNGrDJrM",
        "outputId": "17a8c75f-d5e3-40dd-f671-1f45fa241b6f",
        "colab": {
          "base_uri": "https://localhost:8080/"
        }
      },
      "source": [
        "# Unzip the archive\n",
        "#\n",
        "# Creates a new directory called instacart-market-basket-analysis\n",
        "\n",
        "!unzip instacart-market-basket-analysis.zip"
      ],
      "execution_count": 17,
      "outputs": [
        {
          "output_type": "stream",
          "text": [
            "Archive:  instacart-market-basket-analysis.zip\n",
            "   creating: instacart-market-basket-analysis/\n",
            "  inflating: __MACOSX/._instacart-market-basket-analysis  \n",
            "  inflating: instacart-market-basket-analysis/order_products__prior.csv.zip  \n",
            "  inflating: __MACOSX/instacart-market-basket-analysis/._order_products__prior.csv.zip  \n",
            "  inflating: instacart-market-basket-analysis/.DS_Store  \n",
            "  inflating: __MACOSX/instacart-market-basket-analysis/._.DS_Store  \n",
            "  inflating: instacart-market-basket-analysis/order_products__train.csv.zip  \n",
            "  inflating: __MACOSX/instacart-market-basket-analysis/._order_products__train.csv.zip  \n",
            "  inflating: instacart-market-basket-analysis/aisles.csv.zip  \n",
            "  inflating: __MACOSX/instacart-market-basket-analysis/._aisles.csv.zip  \n",
            "  inflating: instacart-market-basket-analysis/orders.csv.zip  \n",
            "  inflating: __MACOSX/instacart-market-basket-analysis/._orders.csv.zip  \n",
            "  inflating: instacart-market-basket-analysis/departments.csv.zip  \n",
            "  inflating: __MACOSX/instacart-market-basket-analysis/._departments.csv.zip  \n",
            "  inflating: instacart-market-basket-analysis/products.csv.zip  \n",
            "  inflating: __MACOSX/instacart-market-basket-analysis/._products.csv.zip  \n"
          ],
          "name": "stdout"
        }
      ]
    },
    {
      "cell_type": "code",
      "metadata": {
        "id": "qaDdXbQqCnGc",
        "outputId": "92b64753-18a4-4ba9-879a-21d5fdb9ff85",
        "colab": {
          "base_uri": "https://localhost:8080/"
        }
      },
      "source": [
        "# Change into the newly-unzipped directory\n",
        "#\n",
        "# % sign is required to change to a new directory -- you can't use !cd like\n",
        "# other commands\n",
        "#\n",
        "# Optional technical details:\n",
        "#\n",
        "# % makes the command apply to the **entire notebook environment**, which is\n",
        "# what you need to do to change the working directory\n",
        "#\n",
        "# The ! sign **opens a new shell process** behind the scenes to execute the\n",
        "# command -- this works fine for regular commands like unzip and ls\n",
        "#\n",
        "# Therefore, !cd would apply only to that new shell and wouldn't change the\n",
        "# global notebook environment\n",
        "#\n",
        "# If this makes your heard hurt, don't worry too much about it. We'll talk\n",
        "# more about the shell and operating systems stuff later in the program.\n",
        "\n",
        "%cd instacart-market-basket-analysis"
      ],
      "execution_count": 18,
      "outputs": [
        {
          "output_type": "stream",
          "text": [
            "/content/instacart-market-basket-analysis\n"
          ],
          "name": "stdout"
        }
      ]
    },
    {
      "cell_type": "code",
      "metadata": {
        "id": "eADz6civ204P",
        "outputId": "a01c088a-8f55-454c-89ef-a20ab708c304",
        "colab": {
          "base_uri": "https://localhost:8080/"
        }
      },
      "source": [
        "# Unzip all .csv.zip files in the directory\n",
        "!unzip \"*.zip\""
      ],
      "execution_count": 19,
      "outputs": [
        {
          "output_type": "stream",
          "text": [
            "Archive:  aisles.csv.zip\n",
            "  inflating: aisles.csv              \n",
            "   creating: __MACOSX/\n",
            "  inflating: __MACOSX/._aisles.csv   \n",
            "\n",
            "Archive:  order_products__train.csv.zip\n",
            "  inflating: order_products__train.csv  \n",
            "  inflating: __MACOSX/._order_products__train.csv  \n",
            "\n",
            "Archive:  orders.csv.zip\n",
            "  inflating: orders.csv              \n",
            "  inflating: __MACOSX/._orders.csv   \n",
            "\n",
            "Archive:  departments.csv.zip\n",
            "  inflating: departments.csv         \n",
            "  inflating: __MACOSX/._departments.csv  \n",
            "\n",
            "Archive:  order_products__prior.csv.zip\n",
            "  inflating: order_products__prior.csv  \n",
            "  inflating: __MACOSX/._order_products__prior.csv  \n",
            "\n",
            "Archive:  products.csv.zip\n",
            "  inflating: products.csv            \n",
            "  inflating: __MACOSX/._products.csv  \n",
            "\n",
            "6 archives were successfully processed.\n"
          ],
          "name": "stdout"
        }
      ]
    },
    {
      "cell_type": "code",
      "metadata": {
        "id": "nnEkWO4E2_w2",
        "outputId": "2467a5ea-587a-4497-edd8-4810759845d9",
        "colab": {
          "base_uri": "https://localhost:8080/"
        }
      },
      "source": [
        "# List all csv files in the current directory\n",
        "# -l specifies the \"long\" listing format, which includes additional info on each file\n",
        "# -h specifies \"human readable\" file size units\n",
        "!ls -l -h *.csv"
      ],
      "execution_count": 20,
      "outputs": [
        {
          "output_type": "stream",
          "text": [
            "-rw-r--r-- 1 root root 2.6K May  2  2017 aisles.csv\n",
            "-rw-r--r-- 1 root root  270 May  2  2017 departments.csv\n",
            "-rw-r--r-- 1 root root 551M May  2  2017 order_products__prior.csv\n",
            "-rw-r--r-- 1 root root  24M May  2  2017 order_products__train.csv\n",
            "-rw-r--r-- 1 root root 104M May  2  2017 orders.csv\n",
            "-rw-r--r-- 1 root root 2.1M May  2  2017 products.csv\n"
          ],
          "name": "stdout"
        }
      ]
    },
    {
      "cell_type": "markdown",
      "metadata": {
        "id": "kAMtvSQWPUcj"
      },
      "source": [
        "#Use the follwing information to answer the assignment questions.\n",
        "\n",
        "These are the top 10 most frequently ordered products. How many times was each ordered? \n",
        "\n",
        "1. Banana\n",
        "2. Bag of Organic Bananas\n",
        "3. Organic Strawberries\n",
        "4. Organic Baby Spinach \n",
        "5. Organic Hass Avocado\n",
        "6. Organic Avocado\n",
        "7. Large Lemon \n",
        "8. Strawberries\n",
        "9. Limes \n",
        "10. Organic Whole Milk"
      ]
    },
    {
      "cell_type": "markdown",
      "metadata": {
        "id": "xDyL5XUi4FKq"
      },
      "source": [
        "1) Save the products.csv file as a data frame called product_names.  Print the first 5 rows of product_names."
      ]
    },
    {
      "cell_type": "code",
      "metadata": {
        "id": "Og5qgSrnE0uC"
      },
      "source": [
        "import pandas as pd"
      ],
      "execution_count": 21,
      "outputs": []
    },
    {
      "cell_type": "code",
      "metadata": {
        "id": "sDZ_d8104pH1",
        "outputId": "37148d66-66c7-4ccc-bea7-5ed7290efabe",
        "colab": {
          "base_uri": "https://localhost:8080/",
          "height": 204
        }
      },
      "source": [
        "### YOUR CODE HERE ###\n",
        "product_names = pd.read_csv('products.csv')\n",
        "product_names.head()"
      ],
      "execution_count": 22,
      "outputs": [
        {
          "output_type": "execute_result",
          "data": {
            "text/html": [
              "<div>\n",
              "<style scoped>\n",
              "    .dataframe tbody tr th:only-of-type {\n",
              "        vertical-align: middle;\n",
              "    }\n",
              "\n",
              "    .dataframe tbody tr th {\n",
              "        vertical-align: top;\n",
              "    }\n",
              "\n",
              "    .dataframe thead th {\n",
              "        text-align: right;\n",
              "    }\n",
              "</style>\n",
              "<table border=\"1\" class=\"dataframe\">\n",
              "  <thead>\n",
              "    <tr style=\"text-align: right;\">\n",
              "      <th></th>\n",
              "      <th>product_id</th>\n",
              "      <th>product_name</th>\n",
              "      <th>aisle_id</th>\n",
              "      <th>department_id</th>\n",
              "    </tr>\n",
              "  </thead>\n",
              "  <tbody>\n",
              "    <tr>\n",
              "      <th>0</th>\n",
              "      <td>1</td>\n",
              "      <td>Chocolate Sandwich Cookies</td>\n",
              "      <td>61</td>\n",
              "      <td>19</td>\n",
              "    </tr>\n",
              "    <tr>\n",
              "      <th>1</th>\n",
              "      <td>2</td>\n",
              "      <td>All-Seasons Salt</td>\n",
              "      <td>104</td>\n",
              "      <td>13</td>\n",
              "    </tr>\n",
              "    <tr>\n",
              "      <th>2</th>\n",
              "      <td>3</td>\n",
              "      <td>Robust Golden Unsweetened Oolong Tea</td>\n",
              "      <td>94</td>\n",
              "      <td>7</td>\n",
              "    </tr>\n",
              "    <tr>\n",
              "      <th>3</th>\n",
              "      <td>4</td>\n",
              "      <td>Smart Ones Classic Favorites Mini Rigatoni Wit...</td>\n",
              "      <td>38</td>\n",
              "      <td>1</td>\n",
              "    </tr>\n",
              "    <tr>\n",
              "      <th>4</th>\n",
              "      <td>5</td>\n",
              "      <td>Green Chile Anytime Sauce</td>\n",
              "      <td>5</td>\n",
              "      <td>13</td>\n",
              "    </tr>\n",
              "  </tbody>\n",
              "</table>\n",
              "</div>"
            ],
            "text/plain": [
              "   product_id  ... department_id\n",
              "0           1  ...            19\n",
              "1           2  ...            13\n",
              "2           3  ...             7\n",
              "3           4  ...             1\n",
              "4           5  ...            13\n",
              "\n",
              "[5 rows x 4 columns]"
            ]
          },
          "metadata": {
            "tags": []
          },
          "execution_count": 22
        }
      ]
    },
    {
      "cell_type": "markdown",
      "metadata": {
        "id": "nAYozVNF33-t"
      },
      "source": [
        "2) Read in order_products_prior.csv and order_products_train.csv.  Concatenate them into one dataset called order_product_link."
      ]
    },
    {
      "cell_type": "code",
      "metadata": {
        "id": "6o_HZWaU47BH"
      },
      "source": [
        "### YOUR CODE HERE ###\n",
        "order_products_prior = pd.read_csv('order_products__prior.csv')\n",
        "order_products_train = pd.read_csv('order_products__train.csv')\n",
        "\n"
      ],
      "execution_count": 23,
      "outputs": []
    },
    {
      "cell_type": "code",
      "metadata": {
        "id": "tZ_p9S2yUFZY",
        "outputId": "ae099074-e8a2-4b8a-8d5f-b0a2ce1911c3",
        "colab": {
          "base_uri": "https://localhost:8080/"
        }
      },
      "source": [
        "product_names.columns.to_list()"
      ],
      "execution_count": 38,
      "outputs": [
        {
          "output_type": "execute_result",
          "data": {
            "text/plain": [
              "['product_id', 'product_name', 'aisle_id', 'department_id']"
            ]
          },
          "metadata": {
            "tags": []
          },
          "execution_count": 38
        }
      ]
    },
    {
      "cell_type": "code",
      "metadata": {
        "id": "sKB6B-xnFxwg",
        "outputId": "985a1ca8-1c7c-499b-f0c8-ad85109a9182",
        "colab": {
          "base_uri": "https://localhost:8080/",
          "height": 204
        }
      },
      "source": [
        "order_product_link = pd.concat([order_products_prior, order_products_train])\n",
        "\n",
        "order_product_link.head()"
      ],
      "execution_count": 24,
      "outputs": [
        {
          "output_type": "execute_result",
          "data": {
            "text/html": [
              "<div>\n",
              "<style scoped>\n",
              "    .dataframe tbody tr th:only-of-type {\n",
              "        vertical-align: middle;\n",
              "    }\n",
              "\n",
              "    .dataframe tbody tr th {\n",
              "        vertical-align: top;\n",
              "    }\n",
              "\n",
              "    .dataframe thead th {\n",
              "        text-align: right;\n",
              "    }\n",
              "</style>\n",
              "<table border=\"1\" class=\"dataframe\">\n",
              "  <thead>\n",
              "    <tr style=\"text-align: right;\">\n",
              "      <th></th>\n",
              "      <th>order_id</th>\n",
              "      <th>product_id</th>\n",
              "      <th>add_to_cart_order</th>\n",
              "      <th>reordered</th>\n",
              "    </tr>\n",
              "  </thead>\n",
              "  <tbody>\n",
              "    <tr>\n",
              "      <th>0</th>\n",
              "      <td>2</td>\n",
              "      <td>33120</td>\n",
              "      <td>1</td>\n",
              "      <td>1</td>\n",
              "    </tr>\n",
              "    <tr>\n",
              "      <th>1</th>\n",
              "      <td>2</td>\n",
              "      <td>28985</td>\n",
              "      <td>2</td>\n",
              "      <td>1</td>\n",
              "    </tr>\n",
              "    <tr>\n",
              "      <th>2</th>\n",
              "      <td>2</td>\n",
              "      <td>9327</td>\n",
              "      <td>3</td>\n",
              "      <td>0</td>\n",
              "    </tr>\n",
              "    <tr>\n",
              "      <th>3</th>\n",
              "      <td>2</td>\n",
              "      <td>45918</td>\n",
              "      <td>4</td>\n",
              "      <td>1</td>\n",
              "    </tr>\n",
              "    <tr>\n",
              "      <th>4</th>\n",
              "      <td>2</td>\n",
              "      <td>30035</td>\n",
              "      <td>5</td>\n",
              "      <td>0</td>\n",
              "    </tr>\n",
              "  </tbody>\n",
              "</table>\n",
              "</div>"
            ],
            "text/plain": [
              "   order_id  product_id  add_to_cart_order  reordered\n",
              "0         2       33120                  1          1\n",
              "1         2       28985                  2          1\n",
              "2         2        9327                  3          0\n",
              "3         2       45918                  4          1\n",
              "4         2       30035                  5          0"
            ]
          },
          "metadata": {
            "tags": []
          },
          "execution_count": 24
        }
      ]
    },
    {
      "cell_type": "markdown",
      "metadata": {
        "id": "QsGoQ0rI7FIb"
      },
      "source": [
        "3) Use the code below to identify the top 10 most ordered products. Clearly Instacart users really like avocados..."
      ]
    },
    {
      "cell_type": "code",
      "metadata": {
        "id": "VvwRD6mh7AiE"
      },
      "source": [
        "ten_products = [\"Banana\",\n",
        "\"Bag of Organic Bananas\"\n",
        "\"Organic Strawberries\",\n",
        "\"Organic Baby Spinach\",\n",
        "\"Organic Hass Avocado\",\n",
        "\"Organic Avocado\",\n",
        "\"Large Lemon\",\n",
        "\"Strawberries\",\n",
        "\"Limes\",\n",
        "\"Organic Whole Milk\"]"
      ],
      "execution_count": 45,
      "outputs": []
    },
    {
      "cell_type": "code",
      "metadata": {
        "id": "UGJWAP1bUCei"
      },
      "source": [
        ""
      ],
      "execution_count": null,
      "outputs": []
    },
    {
      "cell_type": "markdown",
      "metadata": {
        "id": "tQehWuPf7Y6N"
      },
      "source": [
        "4) Create a subset of the product_names dataset that includes just the top 10 most ordered products.  Call that dataset product_names_10"
      ]
    },
    {
      "cell_type": "code",
      "metadata": {
        "id": "6ZX0OeGU7gAa",
        "outputId": "c19f0f36-bdea-4ac1-bd54-d526447b0e35",
        "colab": {
          "base_uri": "https://localhost:8080/",
          "height": 297
        }
      },
      "source": [
        "### YOUR CODE HERE ###\n",
        "condition = product_names['product_name'].isin(ten_products)\n",
        "\n",
        "product_names_10 = product_names[condition]\n",
        "product_names_10"
      ],
      "execution_count": 46,
      "outputs": [
        {
          "output_type": "execute_result",
          "data": {
            "text/html": [
              "<div>\n",
              "<style scoped>\n",
              "    .dataframe tbody tr th:only-of-type {\n",
              "        vertical-align: middle;\n",
              "    }\n",
              "\n",
              "    .dataframe tbody tr th {\n",
              "        vertical-align: top;\n",
              "    }\n",
              "\n",
              "    .dataframe thead th {\n",
              "        text-align: right;\n",
              "    }\n",
              "</style>\n",
              "<table border=\"1\" class=\"dataframe\">\n",
              "  <thead>\n",
              "    <tr style=\"text-align: right;\">\n",
              "      <th></th>\n",
              "      <th>product_id</th>\n",
              "      <th>product_name</th>\n",
              "      <th>aisle_id</th>\n",
              "      <th>department_id</th>\n",
              "    </tr>\n",
              "  </thead>\n",
              "  <tbody>\n",
              "    <tr>\n",
              "      <th>16796</th>\n",
              "      <td>16797</td>\n",
              "      <td>Strawberries</td>\n",
              "      <td>24</td>\n",
              "      <td>4</td>\n",
              "    </tr>\n",
              "    <tr>\n",
              "      <th>21902</th>\n",
              "      <td>21903</td>\n",
              "      <td>Organic Baby Spinach</td>\n",
              "      <td>123</td>\n",
              "      <td>4</td>\n",
              "    </tr>\n",
              "    <tr>\n",
              "      <th>24851</th>\n",
              "      <td>24852</td>\n",
              "      <td>Banana</td>\n",
              "      <td>24</td>\n",
              "      <td>4</td>\n",
              "    </tr>\n",
              "    <tr>\n",
              "      <th>26208</th>\n",
              "      <td>26209</td>\n",
              "      <td>Limes</td>\n",
              "      <td>24</td>\n",
              "      <td>4</td>\n",
              "    </tr>\n",
              "    <tr>\n",
              "      <th>27844</th>\n",
              "      <td>27845</td>\n",
              "      <td>Organic Whole Milk</td>\n",
              "      <td>84</td>\n",
              "      <td>16</td>\n",
              "    </tr>\n",
              "    <tr>\n",
              "      <th>47208</th>\n",
              "      <td>47209</td>\n",
              "      <td>Organic Hass Avocado</td>\n",
              "      <td>24</td>\n",
              "      <td>4</td>\n",
              "    </tr>\n",
              "    <tr>\n",
              "      <th>47625</th>\n",
              "      <td>47626</td>\n",
              "      <td>Large Lemon</td>\n",
              "      <td>24</td>\n",
              "      <td>4</td>\n",
              "    </tr>\n",
              "    <tr>\n",
              "      <th>47765</th>\n",
              "      <td>47766</td>\n",
              "      <td>Organic Avocado</td>\n",
              "      <td>24</td>\n",
              "      <td>4</td>\n",
              "    </tr>\n",
              "  </tbody>\n",
              "</table>\n",
              "</div>"
            ],
            "text/plain": [
              "       product_id          product_name  aisle_id  department_id\n",
              "16796       16797          Strawberries        24              4\n",
              "21902       21903  Organic Baby Spinach       123              4\n",
              "24851       24852                Banana        24              4\n",
              "26208       26209                 Limes        24              4\n",
              "27844       27845    Organic Whole Milk        84             16\n",
              "47208       47209  Organic Hass Avocado        24              4\n",
              "47625       47626           Large Lemon        24              4\n",
              "47765       47766       Organic Avocado        24              4"
            ]
          },
          "metadata": {
            "tags": []
          },
          "execution_count": 46
        }
      ]
    },
    {
      "cell_type": "markdown",
      "metadata": {
        "id": "PuIVJyJp8Zje"
      },
      "source": [
        "5) Merge the order_product_link dataset with the product_names_10 dataset and print the top 20 rows.  Call the new dataset product_orders."
      ]
    },
    {
      "cell_type": "code",
      "metadata": {
        "id": "PJPGAWEk7OVS",
        "outputId": "105ef8a2-e2e1-429a-c520-8e317e09d5dc",
        "colab": {
          "base_uri": "https://localhost:8080/",
          "height": 669
        }
      },
      "source": [
        "### YOUR CODE HERE ###\n",
        "product_orders = pd.merge(order_product_link, product_names_10, on='product_id')\n",
        "\n",
        "product_orders.head(20)"
      ],
      "execution_count": 47,
      "outputs": [
        {
          "output_type": "execute_result",
          "data": {
            "text/html": [
              "<div>\n",
              "<style scoped>\n",
              "    .dataframe tbody tr th:only-of-type {\n",
              "        vertical-align: middle;\n",
              "    }\n",
              "\n",
              "    .dataframe tbody tr th {\n",
              "        vertical-align: top;\n",
              "    }\n",
              "\n",
              "    .dataframe thead th {\n",
              "        text-align: right;\n",
              "    }\n",
              "</style>\n",
              "<table border=\"1\" class=\"dataframe\">\n",
              "  <thead>\n",
              "    <tr style=\"text-align: right;\">\n",
              "      <th></th>\n",
              "      <th>order_id</th>\n",
              "      <th>product_id</th>\n",
              "      <th>add_to_cart_order</th>\n",
              "      <th>reordered</th>\n",
              "      <th>product_name</th>\n",
              "      <th>aisle_id</th>\n",
              "      <th>department_id</th>\n",
              "    </tr>\n",
              "  </thead>\n",
              "  <tbody>\n",
              "    <tr>\n",
              "      <th>0</th>\n",
              "      <td>3</td>\n",
              "      <td>21903</td>\n",
              "      <td>4</td>\n",
              "      <td>1</td>\n",
              "      <td>Organic Baby Spinach</td>\n",
              "      <td>123</td>\n",
              "      <td>4</td>\n",
              "    </tr>\n",
              "    <tr>\n",
              "      <th>1</th>\n",
              "      <td>26</td>\n",
              "      <td>21903</td>\n",
              "      <td>6</td>\n",
              "      <td>0</td>\n",
              "      <td>Organic Baby Spinach</td>\n",
              "      <td>123</td>\n",
              "      <td>4</td>\n",
              "    </tr>\n",
              "    <tr>\n",
              "      <th>2</th>\n",
              "      <td>31</td>\n",
              "      <td>21903</td>\n",
              "      <td>3</td>\n",
              "      <td>1</td>\n",
              "      <td>Organic Baby Spinach</td>\n",
              "      <td>123</td>\n",
              "      <td>4</td>\n",
              "    </tr>\n",
              "    <tr>\n",
              "      <th>3</th>\n",
              "      <td>39</td>\n",
              "      <td>21903</td>\n",
              "      <td>4</td>\n",
              "      <td>0</td>\n",
              "      <td>Organic Baby Spinach</td>\n",
              "      <td>123</td>\n",
              "      <td>4</td>\n",
              "    </tr>\n",
              "    <tr>\n",
              "      <th>4</th>\n",
              "      <td>56</td>\n",
              "      <td>21903</td>\n",
              "      <td>8</td>\n",
              "      <td>1</td>\n",
              "      <td>Organic Baby Spinach</td>\n",
              "      <td>123</td>\n",
              "      <td>4</td>\n",
              "    </tr>\n",
              "    <tr>\n",
              "      <th>5</th>\n",
              "      <td>57</td>\n",
              "      <td>21903</td>\n",
              "      <td>1</td>\n",
              "      <td>0</td>\n",
              "      <td>Organic Baby Spinach</td>\n",
              "      <td>123</td>\n",
              "      <td>4</td>\n",
              "    </tr>\n",
              "    <tr>\n",
              "      <th>6</th>\n",
              "      <td>73</td>\n",
              "      <td>21903</td>\n",
              "      <td>4</td>\n",
              "      <td>1</td>\n",
              "      <td>Organic Baby Spinach</td>\n",
              "      <td>123</td>\n",
              "      <td>4</td>\n",
              "    </tr>\n",
              "    <tr>\n",
              "      <th>7</th>\n",
              "      <td>92</td>\n",
              "      <td>21903</td>\n",
              "      <td>2</td>\n",
              "      <td>1</td>\n",
              "      <td>Organic Baby Spinach</td>\n",
              "      <td>123</td>\n",
              "      <td>4</td>\n",
              "    </tr>\n",
              "    <tr>\n",
              "      <th>8</th>\n",
              "      <td>113</td>\n",
              "      <td>21903</td>\n",
              "      <td>4</td>\n",
              "      <td>0</td>\n",
              "      <td>Organic Baby Spinach</td>\n",
              "      <td>123</td>\n",
              "      <td>4</td>\n",
              "    </tr>\n",
              "    <tr>\n",
              "      <th>9</th>\n",
              "      <td>135</td>\n",
              "      <td>21903</td>\n",
              "      <td>5</td>\n",
              "      <td>1</td>\n",
              "      <td>Organic Baby Spinach</td>\n",
              "      <td>123</td>\n",
              "      <td>4</td>\n",
              "    </tr>\n",
              "    <tr>\n",
              "      <th>10</th>\n",
              "      <td>139</td>\n",
              "      <td>21903</td>\n",
              "      <td>4</td>\n",
              "      <td>1</td>\n",
              "      <td>Organic Baby Spinach</td>\n",
              "      <td>123</td>\n",
              "      <td>4</td>\n",
              "    </tr>\n",
              "    <tr>\n",
              "      <th>11</th>\n",
              "      <td>148</td>\n",
              "      <td>21903</td>\n",
              "      <td>8</td>\n",
              "      <td>1</td>\n",
              "      <td>Organic Baby Spinach</td>\n",
              "      <td>123</td>\n",
              "      <td>4</td>\n",
              "    </tr>\n",
              "    <tr>\n",
              "      <th>12</th>\n",
              "      <td>169</td>\n",
              "      <td>21903</td>\n",
              "      <td>1</td>\n",
              "      <td>0</td>\n",
              "      <td>Organic Baby Spinach</td>\n",
              "      <td>123</td>\n",
              "      <td>4</td>\n",
              "    </tr>\n",
              "    <tr>\n",
              "      <th>13</th>\n",
              "      <td>177</td>\n",
              "      <td>21903</td>\n",
              "      <td>1</td>\n",
              "      <td>1</td>\n",
              "      <td>Organic Baby Spinach</td>\n",
              "      <td>123</td>\n",
              "      <td>4</td>\n",
              "    </tr>\n",
              "    <tr>\n",
              "      <th>14</th>\n",
              "      <td>190</td>\n",
              "      <td>21903</td>\n",
              "      <td>1</td>\n",
              "      <td>0</td>\n",
              "      <td>Organic Baby Spinach</td>\n",
              "      <td>123</td>\n",
              "      <td>4</td>\n",
              "    </tr>\n",
              "    <tr>\n",
              "      <th>15</th>\n",
              "      <td>213</td>\n",
              "      <td>21903</td>\n",
              "      <td>9</td>\n",
              "      <td>1</td>\n",
              "      <td>Organic Baby Spinach</td>\n",
              "      <td>123</td>\n",
              "      <td>4</td>\n",
              "    </tr>\n",
              "    <tr>\n",
              "      <th>16</th>\n",
              "      <td>219</td>\n",
              "      <td>21903</td>\n",
              "      <td>3</td>\n",
              "      <td>1</td>\n",
              "      <td>Organic Baby Spinach</td>\n",
              "      <td>123</td>\n",
              "      <td>4</td>\n",
              "    </tr>\n",
              "    <tr>\n",
              "      <th>17</th>\n",
              "      <td>222</td>\n",
              "      <td>21903</td>\n",
              "      <td>4</td>\n",
              "      <td>1</td>\n",
              "      <td>Organic Baby Spinach</td>\n",
              "      <td>123</td>\n",
              "      <td>4</td>\n",
              "    </tr>\n",
              "    <tr>\n",
              "      <th>18</th>\n",
              "      <td>239</td>\n",
              "      <td>21903</td>\n",
              "      <td>17</td>\n",
              "      <td>1</td>\n",
              "      <td>Organic Baby Spinach</td>\n",
              "      <td>123</td>\n",
              "      <td>4</td>\n",
              "    </tr>\n",
              "    <tr>\n",
              "      <th>19</th>\n",
              "      <td>248</td>\n",
              "      <td>21903</td>\n",
              "      <td>4</td>\n",
              "      <td>1</td>\n",
              "      <td>Organic Baby Spinach</td>\n",
              "      <td>123</td>\n",
              "      <td>4</td>\n",
              "    </tr>\n",
              "  </tbody>\n",
              "</table>\n",
              "</div>"
            ],
            "text/plain": [
              "    order_id  product_id  ...  aisle_id  department_id\n",
              "0          3       21903  ...       123              4\n",
              "1         26       21903  ...       123              4\n",
              "2         31       21903  ...       123              4\n",
              "3         39       21903  ...       123              4\n",
              "4         56       21903  ...       123              4\n",
              "5         57       21903  ...       123              4\n",
              "6         73       21903  ...       123              4\n",
              "7         92       21903  ...       123              4\n",
              "8        113       21903  ...       123              4\n",
              "9        135       21903  ...       123              4\n",
              "10       139       21903  ...       123              4\n",
              "11       148       21903  ...       123              4\n",
              "12       169       21903  ...       123              4\n",
              "13       177       21903  ...       123              4\n",
              "14       190       21903  ...       123              4\n",
              "15       213       21903  ...       123              4\n",
              "16       219       21903  ...       123              4\n",
              "17       222       21903  ...       123              4\n",
              "18       239       21903  ...       123              4\n",
              "19       248       21903  ...       123              4\n",
              "\n",
              "[20 rows x 7 columns]"
            ]
          },
          "metadata": {
            "tags": []
          },
          "execution_count": 47
        }
      ]
    },
    {
      "cell_type": "markdown",
      "metadata": {
        "id": "RBsXg9dZ9OL9"
      },
      "source": [
        "6) Note that every record product_orders dataset is a single instance in which someone ordered one of the top 10 products.  \n",
        "\n",
        "Calcluate the number of times each product was ordered.  What was the most frequently ordered food?"
      ]
    },
    {
      "cell_type": "code",
      "metadata": {
        "id": "9j121LNl9ADc",
        "outputId": "58fc12c8-9aad-4316-e8ee-2576e1e61415",
        "colab": {
          "base_uri": "https://localhost:8080/"
        }
      },
      "source": [
        "### YOUR CODE HERE ###\n",
        "print(product_orders.shape)\n",
        "product_orders.value_counts('product_name')"
      ],
      "execution_count": 50,
      "outputs": [
        {
          "output_type": "stream",
          "text": [
            "(1747807, 7)\n"
          ],
          "name": "stdout"
        },
        {
          "output_type": "execute_result",
          "data": {
            "text/plain": [
              "product_name\n",
              "Banana                  491291\n",
              "Organic Baby Spinach    251705\n",
              "Organic Hass Avocado    220877\n",
              "Organic Avocado         184224\n",
              "Large Lemon             160792\n",
              "Strawberries            149445\n",
              "Limes                   146660\n",
              "Organic Whole Milk      142813\n",
              "dtype: int64"
            ]
          },
          "metadata": {
            "tags": []
          },
          "execution_count": 50
        }
      ]
    },
    {
      "cell_type": "markdown",
      "metadata": {
        "id": "wKoMvy-D-jxZ"
      },
      "source": [
        "#Now we want to figure out when people are ordering all these bananas.\n"
      ]
    },
    {
      "cell_type": "markdown",
      "metadata": {
        "id": "Yf7Aqs0K-2FM"
      },
      "source": [
        "7) Import orders.csv and name the dataset \"orders\".  Print the top 5 observations in orders.\n",
        "\n"
      ]
    },
    {
      "cell_type": "code",
      "metadata": {
        "id": "wj4r-FYzEAL1",
        "outputId": "7871e1bf-0e16-4cce-c4ab-dec2b407d2a8",
        "colab": {
          "base_uri": "https://localhost:8080/",
          "height": 204
        }
      },
      "source": [
        "### YOUR CODE HERE ###\n",
        "orders = pd.read_csv('orders.csv')\n",
        "orders.head()"
      ],
      "execution_count": 51,
      "outputs": [
        {
          "output_type": "execute_result",
          "data": {
            "text/html": [
              "<div>\n",
              "<style scoped>\n",
              "    .dataframe tbody tr th:only-of-type {\n",
              "        vertical-align: middle;\n",
              "    }\n",
              "\n",
              "    .dataframe tbody tr th {\n",
              "        vertical-align: top;\n",
              "    }\n",
              "\n",
              "    .dataframe thead th {\n",
              "        text-align: right;\n",
              "    }\n",
              "</style>\n",
              "<table border=\"1\" class=\"dataframe\">\n",
              "  <thead>\n",
              "    <tr style=\"text-align: right;\">\n",
              "      <th></th>\n",
              "      <th>order_id</th>\n",
              "      <th>user_id</th>\n",
              "      <th>eval_set</th>\n",
              "      <th>order_number</th>\n",
              "      <th>order_dow</th>\n",
              "      <th>order_hour_of_day</th>\n",
              "      <th>days_since_prior_order</th>\n",
              "    </tr>\n",
              "  </thead>\n",
              "  <tbody>\n",
              "    <tr>\n",
              "      <th>0</th>\n",
              "      <td>2539329</td>\n",
              "      <td>1</td>\n",
              "      <td>prior</td>\n",
              "      <td>1</td>\n",
              "      <td>2</td>\n",
              "      <td>8</td>\n",
              "      <td>NaN</td>\n",
              "    </tr>\n",
              "    <tr>\n",
              "      <th>1</th>\n",
              "      <td>2398795</td>\n",
              "      <td>1</td>\n",
              "      <td>prior</td>\n",
              "      <td>2</td>\n",
              "      <td>3</td>\n",
              "      <td>7</td>\n",
              "      <td>15.0</td>\n",
              "    </tr>\n",
              "    <tr>\n",
              "      <th>2</th>\n",
              "      <td>473747</td>\n",
              "      <td>1</td>\n",
              "      <td>prior</td>\n",
              "      <td>3</td>\n",
              "      <td>3</td>\n",
              "      <td>12</td>\n",
              "      <td>21.0</td>\n",
              "    </tr>\n",
              "    <tr>\n",
              "      <th>3</th>\n",
              "      <td>2254736</td>\n",
              "      <td>1</td>\n",
              "      <td>prior</td>\n",
              "      <td>4</td>\n",
              "      <td>4</td>\n",
              "      <td>7</td>\n",
              "      <td>29.0</td>\n",
              "    </tr>\n",
              "    <tr>\n",
              "      <th>4</th>\n",
              "      <td>431534</td>\n",
              "      <td>1</td>\n",
              "      <td>prior</td>\n",
              "      <td>5</td>\n",
              "      <td>4</td>\n",
              "      <td>15</td>\n",
              "      <td>28.0</td>\n",
              "    </tr>\n",
              "  </tbody>\n",
              "</table>\n",
              "</div>"
            ],
            "text/plain": [
              "   order_id  user_id  ... order_hour_of_day  days_since_prior_order\n",
              "0   2539329        1  ...                 8                     NaN\n",
              "1   2398795        1  ...                 7                    15.0\n",
              "2    473747        1  ...                12                    21.0\n",
              "3   2254736        1  ...                 7                    29.0\n",
              "4    431534        1  ...                15                    28.0\n",
              "\n",
              "[5 rows x 7 columns]"
            ]
          },
          "metadata": {
            "tags": []
          },
          "execution_count": 51
        }
      ]
    },
    {
      "cell_type": "markdown",
      "metadata": {
        "id": "UJLKgUt_AAlW"
      },
      "source": [
        "8) Merge the orders dataset and the product_orders dataset so we can see the time each order of each of the top 10 products was placed."
      ]
    },
    {
      "cell_type": "code",
      "metadata": {
        "id": "lu-21j9cEws6",
        "outputId": "7896f302-1d25-4197-dab0-398f4297913e",
        "colab": {
          "base_uri": "https://localhost:8080/",
          "height": 507
        }
      },
      "source": [
        "### YOUR CODE HERE ###\n",
        "merged_orders = pd.merge(orders, product_orders, on='order_id')\n",
        "merged_orders"
      ],
      "execution_count": 56,
      "outputs": [
        {
          "output_type": "execute_result",
          "data": {
            "text/html": [
              "<div>\n",
              "<style scoped>\n",
              "    .dataframe tbody tr th:only-of-type {\n",
              "        vertical-align: middle;\n",
              "    }\n",
              "\n",
              "    .dataframe tbody tr th {\n",
              "        vertical-align: top;\n",
              "    }\n",
              "\n",
              "    .dataframe thead th {\n",
              "        text-align: right;\n",
              "    }\n",
              "</style>\n",
              "<table border=\"1\" class=\"dataframe\">\n",
              "  <thead>\n",
              "    <tr style=\"text-align: right;\">\n",
              "      <th></th>\n",
              "      <th>order_id</th>\n",
              "      <th>user_id</th>\n",
              "      <th>eval_set</th>\n",
              "      <th>order_number</th>\n",
              "      <th>order_dow</th>\n",
              "      <th>order_hour_of_day</th>\n",
              "      <th>days_since_prior_order</th>\n",
              "      <th>product_id</th>\n",
              "      <th>add_to_cart_order</th>\n",
              "      <th>reordered</th>\n",
              "      <th>product_name</th>\n",
              "      <th>aisle_id</th>\n",
              "      <th>department_id</th>\n",
              "    </tr>\n",
              "  </thead>\n",
              "  <tbody>\n",
              "    <tr>\n",
              "      <th>0</th>\n",
              "      <td>1187899</td>\n",
              "      <td>1</td>\n",
              "      <td>train</td>\n",
              "      <td>11</td>\n",
              "      <td>4</td>\n",
              "      <td>8</td>\n",
              "      <td>14.0</td>\n",
              "      <td>27845</td>\n",
              "      <td>9</td>\n",
              "      <td>0</td>\n",
              "      <td>Organic Whole Milk</td>\n",
              "      <td>84</td>\n",
              "      <td>16</td>\n",
              "    </tr>\n",
              "    <tr>\n",
              "      <th>1</th>\n",
              "      <td>2168274</td>\n",
              "      <td>2</td>\n",
              "      <td>prior</td>\n",
              "      <td>1</td>\n",
              "      <td>2</td>\n",
              "      <td>11</td>\n",
              "      <td>NaN</td>\n",
              "      <td>47766</td>\n",
              "      <td>2</td>\n",
              "      <td>0</td>\n",
              "      <td>Organic Avocado</td>\n",
              "      <td>24</td>\n",
              "      <td>4</td>\n",
              "    </tr>\n",
              "    <tr>\n",
              "      <th>2</th>\n",
              "      <td>1501582</td>\n",
              "      <td>2</td>\n",
              "      <td>prior</td>\n",
              "      <td>2</td>\n",
              "      <td>5</td>\n",
              "      <td>10</td>\n",
              "      <td>10.0</td>\n",
              "      <td>47766</td>\n",
              "      <td>4</td>\n",
              "      <td>1</td>\n",
              "      <td>Organic Avocado</td>\n",
              "      <td>24</td>\n",
              "      <td>4</td>\n",
              "    </tr>\n",
              "    <tr>\n",
              "      <th>3</th>\n",
              "      <td>1501582</td>\n",
              "      <td>2</td>\n",
              "      <td>prior</td>\n",
              "      <td>2</td>\n",
              "      <td>5</td>\n",
              "      <td>10</td>\n",
              "      <td>10.0</td>\n",
              "      <td>16797</td>\n",
              "      <td>1</td>\n",
              "      <td>0</td>\n",
              "      <td>Strawberries</td>\n",
              "      <td>24</td>\n",
              "      <td>4</td>\n",
              "    </tr>\n",
              "    <tr>\n",
              "      <th>4</th>\n",
              "      <td>1901567</td>\n",
              "      <td>2</td>\n",
              "      <td>prior</td>\n",
              "      <td>3</td>\n",
              "      <td>1</td>\n",
              "      <td>10</td>\n",
              "      <td>3.0</td>\n",
              "      <td>47766</td>\n",
              "      <td>1</td>\n",
              "      <td>1</td>\n",
              "      <td>Organic Avocado</td>\n",
              "      <td>24</td>\n",
              "      <td>4</td>\n",
              "    </tr>\n",
              "    <tr>\n",
              "      <th>...</th>\n",
              "      <td>...</td>\n",
              "      <td>...</td>\n",
              "      <td>...</td>\n",
              "      <td>...</td>\n",
              "      <td>...</td>\n",
              "      <td>...</td>\n",
              "      <td>...</td>\n",
              "      <td>...</td>\n",
              "      <td>...</td>\n",
              "      <td>...</td>\n",
              "      <td>...</td>\n",
              "      <td>...</td>\n",
              "      <td>...</td>\n",
              "    </tr>\n",
              "    <tr>\n",
              "      <th>1747802</th>\n",
              "      <td>1854736</td>\n",
              "      <td>206209</td>\n",
              "      <td>prior</td>\n",
              "      <td>11</td>\n",
              "      <td>4</td>\n",
              "      <td>10</td>\n",
              "      <td>30.0</td>\n",
              "      <td>24852</td>\n",
              "      <td>4</td>\n",
              "      <td>1</td>\n",
              "      <td>Banana</td>\n",
              "      <td>24</td>\n",
              "      <td>4</td>\n",
              "    </tr>\n",
              "    <tr>\n",
              "      <th>1747803</th>\n",
              "      <td>626363</td>\n",
              "      <td>206209</td>\n",
              "      <td>prior</td>\n",
              "      <td>12</td>\n",
              "      <td>1</td>\n",
              "      <td>12</td>\n",
              "      <td>18.0</td>\n",
              "      <td>24852</td>\n",
              "      <td>2</td>\n",
              "      <td>1</td>\n",
              "      <td>Banana</td>\n",
              "      <td>24</td>\n",
              "      <td>4</td>\n",
              "    </tr>\n",
              "    <tr>\n",
              "      <th>1747804</th>\n",
              "      <td>626363</td>\n",
              "      <td>206209</td>\n",
              "      <td>prior</td>\n",
              "      <td>12</td>\n",
              "      <td>1</td>\n",
              "      <td>12</td>\n",
              "      <td>18.0</td>\n",
              "      <td>26209</td>\n",
              "      <td>8</td>\n",
              "      <td>0</td>\n",
              "      <td>Limes</td>\n",
              "      <td>24</td>\n",
              "      <td>4</td>\n",
              "    </tr>\n",
              "    <tr>\n",
              "      <th>1747805</th>\n",
              "      <td>2977660</td>\n",
              "      <td>206209</td>\n",
              "      <td>prior</td>\n",
              "      <td>13</td>\n",
              "      <td>1</td>\n",
              "      <td>12</td>\n",
              "      <td>7.0</td>\n",
              "      <td>24852</td>\n",
              "      <td>1</td>\n",
              "      <td>1</td>\n",
              "      <td>Banana</td>\n",
              "      <td>24</td>\n",
              "      <td>4</td>\n",
              "    </tr>\n",
              "    <tr>\n",
              "      <th>1747806</th>\n",
              "      <td>272231</td>\n",
              "      <td>206209</td>\n",
              "      <td>train</td>\n",
              "      <td>14</td>\n",
              "      <td>6</td>\n",
              "      <td>14</td>\n",
              "      <td>30.0</td>\n",
              "      <td>24852</td>\n",
              "      <td>3</td>\n",
              "      <td>1</td>\n",
              "      <td>Banana</td>\n",
              "      <td>24</td>\n",
              "      <td>4</td>\n",
              "    </tr>\n",
              "  </tbody>\n",
              "</table>\n",
              "<p>1747807 rows × 13 columns</p>\n",
              "</div>"
            ],
            "text/plain": [
              "         order_id  user_id  ... aisle_id  department_id\n",
              "0         1187899        1  ...       84             16\n",
              "1         2168274        2  ...       24              4\n",
              "2         1501582        2  ...       24              4\n",
              "3         1501582        2  ...       24              4\n",
              "4         1901567        2  ...       24              4\n",
              "...           ...      ...  ...      ...            ...\n",
              "1747802   1854736   206209  ...       24              4\n",
              "1747803    626363   206209  ...       24              4\n",
              "1747804    626363   206209  ...       24              4\n",
              "1747805   2977660   206209  ...       24              4\n",
              "1747806    272231   206209  ...       24              4\n",
              "\n",
              "[1747807 rows x 13 columns]"
            ]
          },
          "metadata": {
            "tags": []
          },
          "execution_count": 56
        }
      ]
    },
    {
      "cell_type": "markdown",
      "metadata": {
        "id": "88iUSPClAl2_"
      },
      "source": [
        "9) Create a subset of order_times that includes only orders of Bananas.  Call that dataset Bananas."
      ]
    },
    {
      "cell_type": "code",
      "metadata": {
        "id": "wqILRrRWoQGI",
        "outputId": "76b784c0-7bc1-46ad-b690-caeb4725ab78",
        "colab": {
          "base_uri": "https://localhost:8080/",
          "height": 439
        }
      },
      "source": [
        "### YOUR CODE HERE ###\n",
        "bananas_condition = merged_orders['product_name'] == 'Banana'\n",
        "\n",
        "bananas = merged_orders[bananas_condition]\n",
        "bananas"
      ],
      "execution_count": 57,
      "outputs": [
        {
          "output_type": "execute_result",
          "data": {
            "text/html": [
              "<div>\n",
              "<style scoped>\n",
              "    .dataframe tbody tr th:only-of-type {\n",
              "        vertical-align: middle;\n",
              "    }\n",
              "\n",
              "    .dataframe tbody tr th {\n",
              "        vertical-align: top;\n",
              "    }\n",
              "\n",
              "    .dataframe thead th {\n",
              "        text-align: right;\n",
              "    }\n",
              "</style>\n",
              "<table border=\"1\" class=\"dataframe\">\n",
              "  <thead>\n",
              "    <tr style=\"text-align: right;\">\n",
              "      <th></th>\n",
              "      <th>order_id</th>\n",
              "      <th>user_id</th>\n",
              "      <th>eval_set</th>\n",
              "      <th>order_number</th>\n",
              "      <th>order_dow</th>\n",
              "      <th>order_hour_of_day</th>\n",
              "      <th>days_since_prior_order</th>\n",
              "      <th>product_id</th>\n",
              "      <th>add_to_cart_order</th>\n",
              "      <th>reordered</th>\n",
              "      <th>product_name</th>\n",
              "      <th>aisle_id</th>\n",
              "      <th>department_id</th>\n",
              "    </tr>\n",
              "  </thead>\n",
              "  <tbody>\n",
              "    <tr>\n",
              "      <th>6</th>\n",
              "      <td>738281</td>\n",
              "      <td>2</td>\n",
              "      <td>prior</td>\n",
              "      <td>4</td>\n",
              "      <td>2</td>\n",
              "      <td>10</td>\n",
              "      <td>8.0</td>\n",
              "      <td>24852</td>\n",
              "      <td>8</td>\n",
              "      <td>0</td>\n",
              "      <td>Banana</td>\n",
              "      <td>24</td>\n",
              "      <td>4</td>\n",
              "    </tr>\n",
              "    <tr>\n",
              "      <th>9</th>\n",
              "      <td>1199898</td>\n",
              "      <td>2</td>\n",
              "      <td>prior</td>\n",
              "      <td>6</td>\n",
              "      <td>2</td>\n",
              "      <td>9</td>\n",
              "      <td>13.0</td>\n",
              "      <td>24852</td>\n",
              "      <td>7</td>\n",
              "      <td>1</td>\n",
              "      <td>Banana</td>\n",
              "      <td>24</td>\n",
              "      <td>4</td>\n",
              "    </tr>\n",
              "    <tr>\n",
              "      <th>11</th>\n",
              "      <td>3194192</td>\n",
              "      <td>2</td>\n",
              "      <td>prior</td>\n",
              "      <td>7</td>\n",
              "      <td>2</td>\n",
              "      <td>12</td>\n",
              "      <td>14.0</td>\n",
              "      <td>24852</td>\n",
              "      <td>8</td>\n",
              "      <td>1</td>\n",
              "      <td>Banana</td>\n",
              "      <td>24</td>\n",
              "      <td>4</td>\n",
              "    </tr>\n",
              "    <tr>\n",
              "      <th>13</th>\n",
              "      <td>788338</td>\n",
              "      <td>2</td>\n",
              "      <td>prior</td>\n",
              "      <td>8</td>\n",
              "      <td>1</td>\n",
              "      <td>15</td>\n",
              "      <td>27.0</td>\n",
              "      <td>24852</td>\n",
              "      <td>3</td>\n",
              "      <td>1</td>\n",
              "      <td>Banana</td>\n",
              "      <td>24</td>\n",
              "      <td>4</td>\n",
              "    </tr>\n",
              "    <tr>\n",
              "      <th>14</th>\n",
              "      <td>1718559</td>\n",
              "      <td>2</td>\n",
              "      <td>prior</td>\n",
              "      <td>9</td>\n",
              "      <td>2</td>\n",
              "      <td>9</td>\n",
              "      <td>8.0</td>\n",
              "      <td>24852</td>\n",
              "      <td>2</td>\n",
              "      <td>1</td>\n",
              "      <td>Banana</td>\n",
              "      <td>24</td>\n",
              "      <td>4</td>\n",
              "    </tr>\n",
              "    <tr>\n",
              "      <th>...</th>\n",
              "      <td>...</td>\n",
              "      <td>...</td>\n",
              "      <td>...</td>\n",
              "      <td>...</td>\n",
              "      <td>...</td>\n",
              "      <td>...</td>\n",
              "      <td>...</td>\n",
              "      <td>...</td>\n",
              "      <td>...</td>\n",
              "      <td>...</td>\n",
              "      <td>...</td>\n",
              "      <td>...</td>\n",
              "      <td>...</td>\n",
              "    </tr>\n",
              "    <tr>\n",
              "      <th>1747801</th>\n",
              "      <td>2266710</td>\n",
              "      <td>206209</td>\n",
              "      <td>prior</td>\n",
              "      <td>10</td>\n",
              "      <td>5</td>\n",
              "      <td>18</td>\n",
              "      <td>29.0</td>\n",
              "      <td>24852</td>\n",
              "      <td>7</td>\n",
              "      <td>0</td>\n",
              "      <td>Banana</td>\n",
              "      <td>24</td>\n",
              "      <td>4</td>\n",
              "    </tr>\n",
              "    <tr>\n",
              "      <th>1747802</th>\n",
              "      <td>1854736</td>\n",
              "      <td>206209</td>\n",
              "      <td>prior</td>\n",
              "      <td>11</td>\n",
              "      <td>4</td>\n",
              "      <td>10</td>\n",
              "      <td>30.0</td>\n",
              "      <td>24852</td>\n",
              "      <td>4</td>\n",
              "      <td>1</td>\n",
              "      <td>Banana</td>\n",
              "      <td>24</td>\n",
              "      <td>4</td>\n",
              "    </tr>\n",
              "    <tr>\n",
              "      <th>1747803</th>\n",
              "      <td>626363</td>\n",
              "      <td>206209</td>\n",
              "      <td>prior</td>\n",
              "      <td>12</td>\n",
              "      <td>1</td>\n",
              "      <td>12</td>\n",
              "      <td>18.0</td>\n",
              "      <td>24852</td>\n",
              "      <td>2</td>\n",
              "      <td>1</td>\n",
              "      <td>Banana</td>\n",
              "      <td>24</td>\n",
              "      <td>4</td>\n",
              "    </tr>\n",
              "    <tr>\n",
              "      <th>1747805</th>\n",
              "      <td>2977660</td>\n",
              "      <td>206209</td>\n",
              "      <td>prior</td>\n",
              "      <td>13</td>\n",
              "      <td>1</td>\n",
              "      <td>12</td>\n",
              "      <td>7.0</td>\n",
              "      <td>24852</td>\n",
              "      <td>1</td>\n",
              "      <td>1</td>\n",
              "      <td>Banana</td>\n",
              "      <td>24</td>\n",
              "      <td>4</td>\n",
              "    </tr>\n",
              "    <tr>\n",
              "      <th>1747806</th>\n",
              "      <td>272231</td>\n",
              "      <td>206209</td>\n",
              "      <td>train</td>\n",
              "      <td>14</td>\n",
              "      <td>6</td>\n",
              "      <td>14</td>\n",
              "      <td>30.0</td>\n",
              "      <td>24852</td>\n",
              "      <td>3</td>\n",
              "      <td>1</td>\n",
              "      <td>Banana</td>\n",
              "      <td>24</td>\n",
              "      <td>4</td>\n",
              "    </tr>\n",
              "  </tbody>\n",
              "</table>\n",
              "<p>491291 rows × 13 columns</p>\n",
              "</div>"
            ],
            "text/plain": [
              "         order_id  user_id eval_set  ...  product_name  aisle_id  department_id\n",
              "6          738281        2    prior  ...        Banana        24              4\n",
              "9         1199898        2    prior  ...        Banana        24              4\n",
              "11        3194192        2    prior  ...        Banana        24              4\n",
              "13         788338        2    prior  ...        Banana        24              4\n",
              "14        1718559        2    prior  ...        Banana        24              4\n",
              "...           ...      ...      ...  ...           ...       ...            ...\n",
              "1747801   2266710   206209    prior  ...        Banana        24              4\n",
              "1747802   1854736   206209    prior  ...        Banana        24              4\n",
              "1747803    626363   206209    prior  ...        Banana        24              4\n",
              "1747805   2977660   206209    prior  ...        Banana        24              4\n",
              "1747806    272231   206209    train  ...        Banana        24              4\n",
              "\n",
              "[491291 rows x 13 columns]"
            ]
          },
          "metadata": {
            "tags": []
          },
          "execution_count": 57
        }
      ]
    },
    {
      "cell_type": "code",
      "metadata": {
        "id": "bQjIYRjjbRCA",
        "outputId": "770b5716-f416-4809-bcbb-efef471622bb",
        "colab": {
          "base_uri": "https://localhost:8080/"
        }
      },
      "source": [
        "bananas['add_to_cart_order'].sum()"
      ],
      "execution_count": 68,
      "outputs": [
        {
          "output_type": "execute_result",
          "data": {
            "text/plain": [
              "2405664"
            ]
          },
          "metadata": {
            "tags": []
          },
          "execution_count": 68
        }
      ]
    },
    {
      "cell_type": "markdown",
      "metadata": {
        "id": "9CVjG_HgA-UR"
      },
      "source": [
        "10) Run the following code to show a histogram of the times of banana orders (times after noon are written as 13 hours, 14 hours, etc.)"
      ]
    },
    {
      "cell_type": "code",
      "metadata": {
        "id": "0Wjqd0OJA4s2",
        "outputId": "614be1c9-c45b-4e36-88ec-8e4271e4ed7d",
        "colab": {
          "base_uri": "https://localhost:8080/",
          "height": 295
        }
      },
      "source": [
        "import matplotlib.pyplot as plt\n",
        "\n",
        "plt.hist(bananas['order_hour_of_day'],bins=24, color='blue')\n",
        "\n",
        "plt.xlabel('Hour of the Day')\n",
        "plt.ylabel('Number of Times Bananas are Ordered')\n",
        "plt.title('Banana Orders by Time of Day')\n",
        "\n",
        "plt.show()"
      ],
      "execution_count": 58,
      "outputs": [
        {
          "output_type": "display_data",
          "data": {
            "image/png": "[encoded data removed]",
            "text/plain": [
              "<Figure size 432x288 with 1 Axes>"
            ]
          },
          "metadata": {
            "tags": [],
            "needs_background": "light"
          }
        }
      ]
    },
    {
      "cell_type": "markdown",
      "metadata": {
        "id": "xP-LnICJBbaN"
      },
      "source": [
        "11) When were bananas most frequently ordered?"
      ]
    },
    {
      "cell_type": "markdown",
      "metadata": {
        "id": "2uxIbDtSBhGs"
      },
      "source": [
        "Answer here: from 10am - 3pm\n"
      ]
    },
    {
      "cell_type": "markdown",
      "metadata": {
        "id": "uj4qmn_6BqyP"
      },
      "source": [
        "12) Were avocados ordered at a different time a day?  Modify the code below by replacing the ??? to create a histogram of order times of Organic Haas Avocados."
      ]
    },
    {
      "cell_type": "code",
      "metadata": {
        "id": "ub2Rflmnaadx",
        "outputId": "77fed7e2-723e-4f73-80ea-d6343c57f467",
        "colab": {
          "base_uri": "https://localhost:8080/",
          "height": 419
        }
      },
      "source": [
        "order_times = merged_orders[['product_name','order_hour_of_day',  'add_to_cart_order']]\n",
        "order_times"
      ],
      "execution_count": 71,
      "outputs": [
        {
          "output_type": "execute_result",
          "data": {
            "text/html": [
              "<div>\n",
              "<style scoped>\n",
              "    .dataframe tbody tr th:only-of-type {\n",
              "        vertical-align: middle;\n",
              "    }\n",
              "\n",
              "    .dataframe tbody tr th {\n",
              "        vertical-align: top;\n",
              "    }\n",
              "\n",
              "    .dataframe thead th {\n",
              "        text-align: right;\n",
              "    }\n",
              "</style>\n",
              "<table border=\"1\" class=\"dataframe\">\n",
              "  <thead>\n",
              "    <tr style=\"text-align: right;\">\n",
              "      <th></th>\n",
              "      <th>product_name</th>\n",
              "      <th>order_hour_of_day</th>\n",
              "      <th>add_to_cart_order</th>\n",
              "    </tr>\n",
              "  </thead>\n",
              "  <tbody>\n",
              "    <tr>\n",
              "      <th>0</th>\n",
              "      <td>Organic Whole Milk</td>\n",
              "      <td>8</td>\n",
              "      <td>9</td>\n",
              "    </tr>\n",
              "    <tr>\n",
              "      <th>1</th>\n",
              "      <td>Organic Avocado</td>\n",
              "      <td>11</td>\n",
              "      <td>2</td>\n",
              "    </tr>\n",
              "    <tr>\n",
              "      <th>2</th>\n",
              "      <td>Organic Avocado</td>\n",
              "      <td>10</td>\n",
              "      <td>4</td>\n",
              "    </tr>\n",
              "    <tr>\n",
              "      <th>3</th>\n",
              "      <td>Strawberries</td>\n",
              "      <td>10</td>\n",
              "      <td>1</td>\n",
              "    </tr>\n",
              "    <tr>\n",
              "      <th>4</th>\n",
              "      <td>Organic Avocado</td>\n",
              "      <td>10</td>\n",
              "      <td>1</td>\n",
              "    </tr>\n",
              "    <tr>\n",
              "      <th>...</th>\n",
              "      <td>...</td>\n",
              "      <td>...</td>\n",
              "      <td>...</td>\n",
              "    </tr>\n",
              "    <tr>\n",
              "      <th>1747802</th>\n",
              "      <td>Banana</td>\n",
              "      <td>10</td>\n",
              "      <td>4</td>\n",
              "    </tr>\n",
              "    <tr>\n",
              "      <th>1747803</th>\n",
              "      <td>Banana</td>\n",
              "      <td>12</td>\n",
              "      <td>2</td>\n",
              "    </tr>\n",
              "    <tr>\n",
              "      <th>1747804</th>\n",
              "      <td>Limes</td>\n",
              "      <td>12</td>\n",
              "      <td>8</td>\n",
              "    </tr>\n",
              "    <tr>\n",
              "      <th>1747805</th>\n",
              "      <td>Banana</td>\n",
              "      <td>12</td>\n",
              "      <td>1</td>\n",
              "    </tr>\n",
              "    <tr>\n",
              "      <th>1747806</th>\n",
              "      <td>Banana</td>\n",
              "      <td>14</td>\n",
              "      <td>3</td>\n",
              "    </tr>\n",
              "  </tbody>\n",
              "</table>\n",
              "<p>1747807 rows × 3 columns</p>\n",
              "</div>"
            ],
            "text/plain": [
              "               product_name  order_hour_of_day  add_to_cart_order\n",
              "0        Organic Whole Milk                  8                  9\n",
              "1           Organic Avocado                 11                  2\n",
              "2           Organic Avocado                 10                  4\n",
              "3              Strawberries                 10                  1\n",
              "4           Organic Avocado                 10                  1\n",
              "...                     ...                ...                ...\n",
              "1747802              Banana                 10                  4\n",
              "1747803              Banana                 12                  2\n",
              "1747804               Limes                 12                  8\n",
              "1747805              Banana                 12                  1\n",
              "1747806              Banana                 14                  3\n",
              "\n",
              "[1747807 rows x 3 columns]"
            ]
          },
          "metadata": {
            "tags": []
          },
          "execution_count": 71
        }
      ]
    },
    {
      "cell_type": "code",
      "metadata": {
        "id": "gj76G-9mAzui",
        "outputId": "6628192f-1a82-4b1c-af9c-b0d3dbd1e7ad",
        "colab": {
          "base_uri": "https://localhost:8080/",
          "height": 305
        }
      },
      "source": [
        "#Calculate mean order times by product\n",
        "\n",
        "Haas_avocado = order_times.loc[order_times['product_name'] == 'Organic Avocado']\n",
        "\n",
        "\n",
        "import matplotlib.pyplot as plt\n",
        "\n",
        "plt.hist(Haas_avocado['order_hour_of_day'],bins=24, color='red')\n",
        "\n",
        "plt.xlabel('Hour of the Day')\n",
        "plt.ylabel('Number of Times Organic Haas Avocados are Ordered')\n",
        "plt.title('Organic Haas Avocados Orders by Time of Day')\n",
        "\n",
        "plt.show()"
      ],
      "execution_count": 72,
      "outputs": [
        {
          "output_type": "display_data",
          "data": {
            "image/png": "[encoded data removed]",
            "text/plain": [
              "<Figure size 432x288 with 1 Axes>"
            ]
          },
          "metadata": {
            "tags": [],
            "needs_background": "light"
          }
        }
      ]
    },
    {
      "cell_type": "markdown",
      "metadata": {
        "id": "iTIxum7NCyu1"
      },
      "source": [
        "Answer here: "
      ]
    },
    {
      "cell_type": "markdown",
      "metadata": {
        "id": "yux7sSunb972"
      },
      "source": [
        "No, they show a similar order timeframe"
      ]
    },
    {
      "cell_type": "markdown",
      "metadata": {
        "id": "mh-XJVuyDbRt"
      },
      "source": [
        "# Portfolio Project Milestone\n",
        "\n",
        "Watch the Showcase Project (formerly known as Build Week) kickoff video to get a sense of what you will accomplish over the next few weeks:\n",
        "https://youtu.be/WYi9EXH-9lU"
      ]
    }
  ]
}